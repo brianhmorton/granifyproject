{
 "cells": [
  {
   "cell_type": "code",
   "execution_count": 1,
   "id": "5c89f3d5",
   "metadata": {},
   "outputs": [
    {
     "name": "stdout",
     "output_type": "stream",
     "text": [
      "   campaignID      group        date  clicked  subtotal\n",
      "0          22  treatment  2021-01-24        0    121.66\n",
      "1          22  treatment  2021-01-19        0    119.75\n",
      "2          22  treatment  2021-01-21        1    113.45\n",
      "3          22  treatment  2021-01-20        0    111.14\n",
      "4          22  treatment  2021-01-28        1    122.16\n",
      "   campaignID      group        date  clicked  subtotal\n",
      "0          35  treatment  2021-01-17        0     57.12\n",
      "1          35  treatment  2021-01-06        0     37.25\n",
      "2          35  treatment  2021-01-05        0     29.09\n",
      "3          35  treatment  2021-01-23        1    145.21\n",
      "4          35  treatment  2021-01-07        0    143.16\n"
     ]
    }
   ],
   "source": [
    "import pandas as pd\n",
    "import numpy as np\n",
    "from scipy import stats\n",
    "\n",
    "#Data for Campaign 22 (Kitchen Item Recommended)\n",
    "baseline22 = pd.read_csv(r\"C:\\Users\\level\\OneDrive\\Documents\\Granify Interview Files\\HomeCo\\campaign_22_baseline.csv\")\n",
    "treatment22 = pd.read_csv(r\"C:\\Users\\level\\OneDrive\\Documents\\Granify Interview Files\\HomeCo\\campaign_22_treatment.csv\")\n",
    "sessions22 = pd.read_csv(r\"C:\\Users\\level\\OneDrive\\Documents\\Granify Interview Files\\HomeCo\\campaign_22_sessions.csv\")\n",
    "\n",
    "#Data for Campaign 35 (Furniture Item Recommended) \n",
    "baseline35 = pd.read_csv(r\"C:\\Users\\level\\OneDrive\\Documents\\Granify Interview Files\\HomeCo\\campaign_35_baseline.csv\")\n",
    "treatment35 = pd.read_csv(r\"C:\\Users\\level\\OneDrive\\Documents\\Granify Interview Files\\HomeCo\\campaign_35_treatment.csv\")\n",
    "sessions35 = pd.read_csv(r\"C:\\Users\\level\\OneDrive\\Documents\\Granify Interview Files\\HomeCo\\campaign_35_sessions.csv\")\n",
    "\n",
    "#print(baseline22.head())\n",
    "print(treatment22.head())\n",
    "#print(sessions22.head())\n",
    "print(treatment35.head())"
   ]
  },
  {
   "cell_type": "markdown",
   "id": "a89dc25a",
   "metadata": {},
   "source": [
    "First, I need to calculate the CTR for the two treatment groups. This is defined as the percentage of the treatment group that \n",
    "clicked the recommended item. To calculate this is as simple as summing the \"clicked\" column (as it is a binary variable) and then dividing the sum by the total number of rows."
   ]
  },
  {
   "cell_type": "code",
   "execution_count": 2,
   "id": "98268c5e",
   "metadata": {},
   "outputs": [
    {
     "name": "stdout",
     "output_type": "stream",
     "text": [
      "The CTR for Campaign 22 is 16.465302%\n",
      "The CTR for Campaign 35 is 15.397665%\n"
     ]
    }
   ],
   "source": [
    "#Clickthrough Rate for Campaign 22\n",
    "CTR_22 = treatment22[\"clicked\"].sum() / len(treatment22.index)\n",
    "\n",
    "#Clickthrough Rate for Campaign 35\n",
    "CTR_35 = treatment35[\"clicked\"].sum() / len(treatment35.index)\n",
    "\n",
    "#\"{:%}\".format() formats the variables as percentages\n",
    "print(\"The CTR for Campaign 22 is\", \"{:%}\".format(CTR_22))\n",
    "print(\"The CTR for Campaign 35 is\", \"{:%}\".format(CTR_35))"
   ]
  },
  {
   "cell_type": "markdown",
   "id": "5fbf7ca6",
   "metadata": {},
   "source": [
    "We can see that Campaign 22 had a higher CTR than Campaign 35. In fact, the CTR was a little more than one percentage point higher.\n",
    "\n",
    "Now, I move on to calculate the Average Order Value, or AOV, for the treatment and baseline groups of both campaigns. The AOV is self-explanatory, and so to calculate it I simply calculate the mean of the \"subtotal\" column of each dataframe.\n",
    "\n",
    "Then, I will calculate the AOV Lift for each campaign, defined as (AOV treatment / AOV baseline) - 1"
   ]
  },
  {
   "cell_type": "code",
   "execution_count": 3,
   "id": "429cf592",
   "metadata": {},
   "outputs": [
    {
     "name": "stdout",
     "output_type": "stream",
     "text": [
      "Campaign 22 baseline group AOV:  114.86191877868646\n",
      "Campaign 22 treatment group AOV: 115.49723714428356 \n",
      "\n",
      "Campaign 35 baseline group AOV:  114.89859738444568\n",
      "Campaign 35 treatment group AOV: 116.44605528390429 \n",
      "\n",
      "Campaign 22 AOV Lift: 0.553115%\n",
      "Campaign 35 AOV Lift: 1.346803%\n"
     ]
    }
   ],
   "source": [
    "#AOV for baseline and treatment groups from Campaign 22\n",
    "AOV_baseline22 = baseline22[\"subtotal\"].mean()\n",
    "AOV_treatment22 = treatment22[\"subtotal\"].mean()\n",
    "\n",
    "#AOV for baseline and treatment groups from Campaign 35\n",
    "AOV_baseline35 = baseline35[\"subtotal\"].mean()\n",
    "AOV_treatment35 = treatment35[\"subtotal\"].mean()\n",
    "\n",
    "print(\"Campaign 22 baseline group AOV: \", AOV_baseline22)\n",
    "print(\"Campaign 22 treatment group AOV:\", AOV_treatment22, \"\\n\")\n",
    "print(\"Campaign 35 baseline group AOV: \", AOV_baseline35)\n",
    "print(\"Campaign 35 treatment group AOV:\", AOV_treatment35, \"\\n\")\n",
    "\n",
    "AOV_lift22 = (AOV_treatment22 / AOV_baseline22) - 1\n",
    "AOV_lift35 = (AOV_treatment35 / AOV_baseline35) - 1\n",
    "\n",
    "print(\"Campaign 22 AOV Lift:\", \"{:%}\".format(AOV_lift22))\n",
    "print(\"Campaign 35 AOV Lift:\", \"{:%}\".format(AOV_lift35))"
   ]
  },
  {
   "cell_type": "markdown",
   "id": "a8f721c0",
   "metadata": {},
   "source": [
    "But are these differences signficant? One way of assessing this is to run a T-test on the subtotals for the baseline and treatment groups for each campaign."
   ]
  },
  {
   "cell_type": "code",
   "execution_count": 4,
   "id": "a9677726",
   "metadata": {},
   "outputs": [
    {
     "name": "stdout",
     "output_type": "stream",
     "text": [
      "Campaign 22: Ttest_indResult(statistic=-5.449007942249054, pvalue=5.1248705327558394e-08)\n",
      "Campaign 35: Ttest_indResult(statistic=-0.8487191331863405, pvalue=0.39604773671007165)\n"
     ]
    }
   ],
   "source": [
    "print(\"Campaign 22:\", stats.ttest_ind(baseline22[\"subtotal\"], treatment22[\"subtotal\"]))\n",
    "print(\"Campaign 35:\", stats.ttest_ind(baseline35[\"subtotal\"], treatment35[\"subtotal\"]))"
   ]
  },
  {
   "cell_type": "markdown",
   "id": "1e854a33",
   "metadata": {},
   "source": [
    "The p-value for Campaign 22 is extremely small, 5.12e-08, which means the difference in mean AOV between the baseline and treatment group for Campaign 22 is significant. The same cannot be said for differences between the baseline and treatment mean AOVs for Campaign 35, which only had a  p-value of 0.39.\n",
    "\n",
    "Interestingly, even though the effects of the treatment in Campaign 22 are significant while the effects of the treatment in Campaign 35 are not, the AOV Lift is higher for Campaign 35 compared to Campaign 22. "
   ]
  },
  {
   "cell_type": "markdown",
   "id": "00cbbf32",
   "metadata": {},
   "source": [
    "I will now merge the campaign data sets with the associated sessions CSV to do the next set of calcuations. To do so, I will concatenate the baseline, treatment, and sessions CSVs together for Campaign 22 and Campaign 33, respectively."
   ]
  },
  {
   "cell_type": "code",
   "execution_count": 5,
   "id": "26811867",
   "metadata": {},
   "outputs": [],
   "source": [
    "combined22 = pd.concat([baseline22, treatment22, sessions22]).sort_values(by=\"date\")\n",
    "combined35 = pd.concat([baseline35, treatment35, sessions35]).sort_values(by=\"date\")"
   ]
  },
  {
   "cell_type": "markdown",
   "id": "c2060b9a",
   "metadata": {},
   "source": [
    "Now, I will calculate the CVR lift for both campaigns, defined as (CVR Treatment/CVR Baseline) - 1. To do this, I will first have to calculate the CVR, purchases/count, for the baseline and treatment groups. For this calculation, I am assuming that if the subtotal is > 0 and \"click\" is *not* 1 (i.e. either 0 or NaN), then one purchase was made, and if the subtotal is > 0 and \"click\" *is* 1, then two purchases were made (and, of course, if the subtotal is 0 then no purchase was made). I will create a new row that shows the number of purchases for that row."
   ]
  },
  {
   "cell_type": "code",
   "execution_count": 6,
   "id": "ce4f5bc9",
   "metadata": {},
   "outputs": [
    {
     "name": "stdout",
     "output_type": "stream",
     "text": [
      "       campaignID      group        date  clicked  subtotal  purchases\n",
      "21886          35   baseline  2021-01-01      NaN      0.00        0.0\n",
      "1552           35  treatment  2021-01-01      0.0    189.92        1.0\n",
      "4123           35   baseline  2021-01-01      NaN    124.93        1.0\n",
      "64994          35   baseline  2021-01-01      NaN      0.00        0.0\n",
      "16644          35  treatment  2021-01-01      NaN      0.00        0.0\n"
     ]
    }
   ],
   "source": [
    "for i, row in combined22.iterrows():\n",
    "    \n",
    "    if row[\"subtotal\"] == 0:\n",
    "        combined22.at[i, \"purchases\"] = 0\n",
    "    \n",
    "    #elif row[\"clicked\"] == 1:\n",
    "        #combined22.at[i, \"purchases\"] = 2\n",
    "    \n",
    "    else:\n",
    "        combined22.at[i, \"purchases\"] = 1   \n",
    "        \n",
    "for i, row in combined35.iterrows():\n",
    "    \n",
    "    if row[\"subtotal\"] == 0:\n",
    "        combined35.at[i, \"purchases\"] = 0\n",
    "    \n",
    "    #elif row[\"clicked\"] == 1:\n",
    "        #combined35.at[i, \"purchases\"] = 2\n",
    "    \n",
    "    else:\n",
    "        combined35.at[i, \"purchases\"] = 1   \n",
    "    \n",
    "print(combined35.head())\n"
   ]
  },
  {
   "cell_type": "code",
   "execution_count": 7,
   "id": "ba6f5816",
   "metadata": {},
   "outputs": [
    {
     "name": "stdout",
     "output_type": "stream",
     "text": [
      "The CVR Lift for Campaign 22 is 0.607488%\n",
      "The CVR Lift for Campaign 35 is 2.204679%\n"
     ]
    }
   ],
   "source": [
    "CVR_baseline22 = combined22[combined22[\"group\"] == \"baseline\"][\"purchases\"].sum() / len(combined22[combined22[\"group\"] == \"baseline\"])\n",
    "CVR_treatment22 = combined22[combined22[\"group\"] == \"treatment\"][\"purchases\"].sum() / len(combined22[combined22[\"group\"] == \"treatment\"])\n",
    "\n",
    "CVR_baseline35 = combined35[combined35[\"group\"] == \"baseline\"][\"purchases\"].sum() / len(combined35[combined35[\"group\"] == \"baseline\"])\n",
    "CVR_treatment35 = combined35[combined35[\"group\"] == \"treatment\"][\"purchases\"].sum() / len(combined35[combined35[\"group\"] == \"treatment\"])\n",
    "\n",
    "CVR_lift22 = (CVR_treatment22 / CVR_baseline22) - 1\n",
    "CVR_lift35 = (CVR_treatment35 / CVR_baseline35) - 1\n",
    "\n",
    "print(\"The CVR Lift for Campaign 22 is\",  \"{:%}\".format(CVR_lift22))\n",
    "print(\"The CVR Lift for Campaign 35 is\",  \"{:%}\".format(CVR_lift35))"
   ]
  },
  {
   "cell_type": "markdown",
   "id": "eb427012",
   "metadata": {},
   "source": [
    "Now, I will calculate the RPS Lift, defined as (RPS Treatment/RPS Baseline) - 1. To do this, I will first have to calculate the RPS, Revenue/count, for the baseline and treatment groups. The revenue is the value of the \"subtotal\" column."
   ]
  },
  {
   "cell_type": "code",
   "execution_count": 8,
   "id": "dd60b5b6",
   "metadata": {},
   "outputs": [
    {
     "name": "stdout",
     "output_type": "stream",
     "text": [
      "The RPS Lift for Campaign 22 is 3.112329%\n",
      "The RPS Lift for Campaign 35 is 2.842794%\n"
     ]
    }
   ],
   "source": [
    "RPS_baseline22 = combined22[combined22[\"group\"] == \"baseline\"][\"subtotal\"].sum() / len(combined22[combined22[\"group\"] == \"baseline\"])\n",
    "RPS_treatment22 = combined22[combined22[\"group\"] == \"treatment\"][\"subtotal\"].sum() / len(combined22[combined22[\"group\"] == \"treatment\"])\n",
    "\n",
    "RPS_baseline35 = combined35[combined35[\"group\"] == \"baseline\"][\"subtotal\"].sum() / len(combined35[combined35[\"group\"] == \"baseline\"])\n",
    "RPS_treatment35 = combined35[combined35[\"group\"] == \"treatment\"][\"subtotal\"].sum() / len(combined35[combined35[\"group\"] == \"treatment\"])\n",
    "\n",
    "RPS_lift22 = (RPS_treatment22 / RPS_baseline22) - 1\n",
    "RPS_lift35 = (RPS_treatment35 / RPS_baseline35) - 1\n",
    "\n",
    "print(\"The RPS Lift for Campaign 22 is\",  \"{:%}\".format(RPS_lift22))\n",
    "print(\"The RPS Lift for Campaign 35 is\",  \"{:%}\".format(RPS_lift35))"
   ]
  },
  {
   "cell_type": "markdown",
   "id": "ccf98853",
   "metadata": {},
   "source": [
    "Next, I will calculate the daily RPS Lift and CVR lift. I also want to investiage the signficance of the clickthrough rates and the variance in AOV."
   ]
  },
  {
   "cell_type": "code",
   "execution_count": 9,
   "id": "90d7e11a",
   "metadata": {},
   "outputs": [],
   "source": [
    "import datetime\n",
    "\n",
    "\n",
    "\n"
   ]
  }
 ],
 "metadata": {
  "kernelspec": {
   "display_name": "Python 3 (ipykernel)",
   "language": "python",
   "name": "python3"
  },
  "language_info": {
   "codemirror_mode": {
    "name": "ipython",
    "version": 3
   },
   "file_extension": ".py",
   "mimetype": "text/x-python",
   "name": "python",
   "nbconvert_exporter": "python",
   "pygments_lexer": "ipython3",
   "version": "3.9.13"
  }
 },
 "nbformat": 4,
 "nbformat_minor": 5
}
